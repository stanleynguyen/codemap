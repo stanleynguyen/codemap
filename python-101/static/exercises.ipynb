{
 "metadata": {
  "language_info": {
   "codemirror_mode": {
    "name": "ipython",
    "version": 3
   },
   "file_extension": ".py",
   "mimetype": "text/x-python",
   "name": "python",
   "nbconvert_exporter": "python",
   "pygments_lexer": "ipython3",
   "version": "3.8.3-final"
  },
  "orig_nbformat": 2,
  "kernelspec": {
   "name": "python3",
   "display_name": "Python 3.8.3 64-bit ('aiml': conda)",
   "metadata": {
    "interpreter": {
     "hash": "7318deab7c8a83ed4d5fae2a2be76eb1d44cc4fb26e02f54245fa7144beaf8f2"
    }
   }
  }
 },
 "nbformat": 4,
 "nbformat_minor": 2,
 "cells": [
  {
   "cell_type": "code",
   "execution_count": 1,
   "metadata": {},
   "outputs": [],
   "source": [
    "import os\n",
    "import re\n",
    "import random\n",
    "\n",
    "from solutions import *"
   ]
  },
  {
   "source": [
    "# Exercise 1"
   ],
   "cell_type": "markdown",
   "metadata": {}
  },
  {
   "cell_type": "code",
   "execution_count": 2,
   "metadata": {},
   "outputs": [],
   "source": [
    "'''\n",
    "  |\\\n",
    "  | \\ c\n",
    "b |  \\\n",
    "  |___\\\n",
    "    a\n",
    "'''\n",
    "\n",
    "a = 3\n",
    "b = 4\n",
    "\n",
    "# Write an expression to compute c\n",
    "# Complete the expression c = ... in between the margins of #'s\n",
    "# (Do not write anywhere else)\n",
    "# Hint: Google \"Pythagorean theorem\" and how to use it.\n",
    "\n",
    "answer_1 = '''\n",
    "####################################################################################################\n",
    "\n",
    "c = \n",
    "\n",
    "####################################################################################################\n",
    "'''"
   ]
  },
  {
   "source": [
    "## Solution 1\n",
    "Run cell below to generate solution for exercise 1"
   ],
   "cell_type": "markdown",
   "metadata": {}
  },
  {
   "cell_type": "code",
   "execution_count": 10,
   "metadata": {},
   "outputs": [
    {
     "output_type": "stream",
     "name": "stdout",
     "text": [
      "Answer 1 is correct.\n"
     ]
    }
   ],
   "source": [
    "check_1(a,b,answer_1)"
   ]
  },
  {
   "source": [
    "# Exercise 2"
   ],
   "cell_type": "markdown",
   "metadata": {}
  },
  {
   "cell_type": "code",
   "execution_count": 16,
   "metadata": {},
   "outputs": [],
   "source": [
    "'''\n",
    "     +----+\n",
    "    /    /|\n",
    "   /    / | c\n",
    "  /    /  |\n",
    " /    /   +\n",
    "+----+   / \n",
    "|    |  /  \n",
    "|    | /  b \n",
    "|    |/    \n",
    "+----+ \n",
    "   a   \n",
    "'''\n",
    "\n",
    "# Write a function to compute surface area of a generic cuboid.\n",
    "# Complete the function between the margins of #'s inside the function definition\n",
    "\n",
    "def cuboid_surface_area(a,b,c):\n",
    "    # Write your code between the margins of #'s\n",
    "    # Make sure to create and compute a variable called \"area\"\n",
    "    ####################################################################################################\n",
    "    \n",
    "    \n",
    "    \n",
    "    \n",
    "    ####################################################################################################\n",
    "\n",
    "    return area"
   ]
  },
  {
   "cell_type": "code",
   "execution_count": null,
   "metadata": {},
   "outputs": [],
   "source": [
    "# Rough work / Testing\n",
    "\n",
    "\n",
    "\n",
    "\n",
    "\n",
    "\n",
    "\n",
    "\n",
    "\n",
    "\n"
   ]
  },
  {
   "source": [
    "## Solution 2\n",
    "Run cell below to generate solution for exercise 2"
   ],
   "cell_type": "markdown",
   "metadata": {}
  },
  {
   "cell_type": "code",
   "execution_count": 22,
   "metadata": {},
   "outputs": [
    {
     "output_type": "stream",
     "name": "stdout",
     "text": [
      "Answer 2 is correct.\n"
     ]
    }
   ],
   "source": [
    "check_2(cuboid_surface_area)"
   ]
  },
  {
   "source": [
    "# Exercise 3"
   ],
   "cell_type": "markdown",
   "metadata": {}
  },
  {
   "cell_type": "code",
   "execution_count": null,
   "metadata": {},
   "outputs": [],
   "source": [
    "# Square designer function\n",
    "# Make a function to allow a user to enter a character char of their choice and an integer l between 1 and 100 (inclusive).\n",
    "# The function then returns a string representation of a square of side l, drawn with the user's chosen charactor char.\n",
    "# Only the perimeter is drawn with the user's character, the centre of the sqaure is blank spaces (See example at the end).\n",
    "\n",
    "# The template is given below:\n",
    "\n",
    "def square_designer(char, l):\n",
    "    # Write your code between the margins of #'s\n",
    "    # Make sure to create and compute a variable called \"square\"\n",
    "    ####################################################################################################\n",
    "    \n",
    "    \n",
    "    \n",
    "    \n",
    "    ####################################################################################################\n",
    "\n",
    "    return square\n",
    "\n",
    "'''Important points'''\n",
    "# If the user were to enter the \"char\" input argument as something wrong, return the string \"Error 1\".\n",
    "    # Wrong: char is not a length-1 string.\n",
    "# If the user were to enter an integer not in the range 1 - 100 inclusive, return the string \"Error 2\".\n",
    "\n",
    "# Example usage\n",
    "# square_designer('@',2)\n",
    "# will return a string:\n",
    "'''\n",
    "@@\n",
    "@@\n",
    "'''\n",
    "# square_designer('^',5)\n",
    "# will return a string:\n",
    "'''\n",
    "^^^^^\n",
    "^   ^\n",
    "^   ^\n",
    "^   ^\n",
    "^^^^^\n",
    "'''"
   ]
  },
  {
   "cell_type": "code",
   "execution_count": 76,
   "metadata": {},
   "outputs": [
    {
     "output_type": "stream",
     "name": "stdout",
     "text": [
      "Answer 3 is correct.\n"
     ]
    }
   ],
   "source": [
    "check_3(square_designer)"
   ]
  }
 ]
}