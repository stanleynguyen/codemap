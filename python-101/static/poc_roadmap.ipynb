{
 "metadata": {
  "language_info": {
   "codemirror_mode": {
    "name": "ipython",
    "version": 3
   },
   "file_extension": ".py",
   "mimetype": "text/x-python",
   "name": "python",
   "nbconvert_exporter": "python",
   "pygments_lexer": "ipython3",
   "version": 3
  },
  "orig_nbformat": 2
 },
 "nbformat": 4,
 "nbformat_minor": 2,
 "cells": [
  {
   "source": [
    "0. How computers store information, run programs/scripts and different interfaces.\n",
    "    - Everything can be stored as a sequence of numbers, given some standard format.\n",
    "    - Specifically, binary is the natural way to store information digitally: numbers, text, pictures, sound, videos, etc.\n",
    "    - Computers have various recorded sets of instructions to perform basic tasks like move/copy data, compare values, add/subtract values etc (also in 0's and 1's - Machine Language).\n",
    "    - These basic functions can be combined to do more complicated stuff, like solve algebra, display videos, run computer games, etc. All of these work by following some sequence of instructions. Any such sequence of instruction is a _program_.\n",
    "    - Virtually everything is a \"program\" - some programmed list of instructions for the computer to follow. The input might be different each time the program is run, but the instructions remain the same.\n",
    "    - So although computers store everything in binary, its physical hardware (screens, speakers), coupled with some software (photo apps, music player apps..) can display or represent the stored data in dynamic ways - such as displaying coloured pictures on screens and playing a variety of sounds. The way you view content and/or communicate to the actual \"brain\" of the computer is through the _interface_. This can be textual (CLI) or graphical (GUI).\n",
    "    - Computer programming is how to design instructions for the computer to execute actions. It requires:\n",
    "        - Instructions written in a standardized programming language.\n",
    "        - A \"translator\" to convert these written instructions to machine code (0's and 1's) and execute the instructions. \n",
    "    - Python programming is basically writing instructions in Python, and sending these written instructions to the Python interpreter program to run. Usually the interface is textual."
   ],
   "cell_type": "markdown",
   "metadata": {}
  },
  {
   "source": [
    "1. Data types, variables and operators\n",
    "    - Data types\n",
    "        - Python can hold many different basic types of values as data:\n",
    "            - Numerical:\n",
    "                - Integers\n",
    "                - Floats\n",
    "            - Text:\n",
    "                - Strings ---> Made up of individual characters (see ASCII)\n",
    "                - Encapsulated between single _or_ double quotes: '' / \"\"\n",
    "            - Boolean:\n",
    "                - Special kind of data which have only two possible values - True or False\n",
    "        - Literals - static instances of the above examples.\n",
    "    - Variables\n",
    "        - Variables are containers that hold values. They have:\n",
    "            - A name (\"variable name\")\n",
    "            - A value\n",
    "        - Assignment operation : \"=\"\n",
    "            - Assignment is done with \"=\" (equal sign):\n",
    "                - Left side: variable name\n",
    "                - Right side: result of some computation.\n",
    "            - Assignment operation will _assign_ the result on the right, to the name of the variable on the left. From this point on, every time this variable name is called, the value would be returned. \n",
    "    - Operators\n",
    "        - Python allows operations to act on literals/variables. \n",
    "        - Math: +,-,*,/,%,** ---> follows the mathematical order of operations. If in doubt, just apply parentheses () to ensure priority."
   ],
   "cell_type": "markdown",
   "metadata": {}
  },
  {
   "source": [
    "## Important temporary knowledge supplement\n",
    "- functions are programmed sequences of instructions that can be repeatedly called to perform some task. They can be thought of as mini-programs.\n",
    "- functions are black boxes with 2 interfaces:\n",
    "    - input\n",
    "    - output\n",
    "    - **both are optional**\n",
    "- In Python, functions are called by:\n",
    "    - typing the function name, followed by a set of parentheses, and optionally, providing the necessary input into the brackets. \n",
    "    - the allowed input is according to how the function is designed.\n",
    "- Designing them will come later, but knowing how to use them is necessary now.\n",
    "- required level - combined knowledge of \n",
    "    - using int(), float(), input() functions\n",
    "        - input() casts to string by default\n",
    "    - assignment "
   ],
   "cell_type": "markdown",
   "metadata": {}
  },
  {
   "source": [
    "2. Lists\n",
    "    - Lists are collection of objects, which can be of any type.\n",
    "    - creating a list:\n",
    "        - \\[...]\n",
    "        - list()\n",
    "    - length of a list:\n",
    "        - len() function\n",
    "        - finding the index of last element is possible with len()\n",
    "    - indexing:\n",
    "        - individual list elements are accessed by index in square braces []\n",
    "        - instead of len(), python allows negative indexing\n",
    "    - assignment of elements:\n",
    "        - use assignment on indexed element: my_list\\[i] = some_value\n",
    "    - slicing:\n",
    "        - start, stop, step ---> \\[start:stop:step]\n",
    "        - default is 0, n, 1 ---> my_list\\[::] = my_list\\[0:n:1]\n",
    "        - may drop any of the options: usually only start and/or stop is used.\n",
    "        - reversal is conveniently done by: \\[::-1]\n",
    "    - appending:\n",
    "        - append() is a function to add elements to the end of the list.\n",
    "    - pop:\n",
    "        - pop() is a function that removes an element - can be provided an index, if not will default to popping off the last element of the list.\n",
    "    - nested lists\n",
    "        - a generalization - elements can be anything, even other lists.\n",
    "    - indexing works by continuing to apply square braces: my_nested_list\\[i]\\[j]..."
   ],
   "cell_type": "markdown",
   "metadata": {}
  },
  {
   "source": [
    "3. Conditional statements\n",
    "    - Boolean data type:\n",
    "        - True , False\n",
    "    - Boolean operators:\n",
    "        - not\n",
    "        - and\n",
    "        - or\n",
    "        - is (?)\n",
    "    - comparison operators:\n",
    "        - ==, !=\n",
    "        - \\>, >=, <, <=\n",
    "    - Boolean expressions:\n",
    "        - expressions that compute to a Boolean value (either True or False)\n",
    "        - every expression can be \"forced\" to take on a Boolean value - \"truthiness\"\n",
    "    - if statements:\n",
    "        - if\n",
    "        - else\n",
    "        - elif - \"else-if\""
   ],
   "cell_type": "markdown",
   "metadata": {}
  },
  {
   "source": [
    "4. Loops\n",
    "    - for loop\n",
    "        - for .. in ..:\n",
    "        - iterating through an iterable (collection), like lists. \n",
    "        - range() function - built-in to generate sequences of numbers - can be used conveniently to generate indices or number sequences.\n",
    "    - while loop\n",
    "        - while ..:\n",
    "        - similar to an if statement that keeps performing the task in the if block until the condition breaks.\n",
    "    - nested loops"
   ],
   "cell_type": "markdown",
   "metadata": {}
  },
  {
   "source": [
    "5. functions\n",
    "    - cover import here\n",
    "    - pseudo code\n",
    "6. file I/O"
   ],
   "cell_type": "markdown",
   "metadata": {}
  }
 ]
}