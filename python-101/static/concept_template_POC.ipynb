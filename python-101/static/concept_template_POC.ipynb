{
 "metadata": {
  "language_info": {
   "codemirror_mode": {
    "name": "ipython",
    "version": 3
   },
   "file_extension": ".py",
   "mimetype": "text/x-python",
   "name": "python",
   "nbconvert_exporter": "python",
   "pygments_lexer": "ipython3",
   "version": "3.8.3-final"
  },
  "orig_nbformat": 2,
  "kernelspec": {
   "name": "python3",
   "display_name": "Python 3"
  }
 },
 "nbformat": 4,
 "nbformat_minor": 2,
 "cells": [
  {
   "source": [
    "# Functions\n",
    "\n",
    "*Prerequisites: assigning variables, mathematical operators, commenting, simple lists, simple for-loops\n",
    "\n",
    "- A function is like a machine. This machine can take in some input (can be 0,1,2,..etc number of input) and return some output (output can be 0 or several items as well). \n",
    "- The process of designing/building this machine is called _defining a function_. Whenever a programmer wants to actually **use** this \"machine\" to do work, he needs to _call the function_. Defining and calling the function are two different things, nothing happens during definition, only during function calls. \n",
    "\n",
    "<center>\n",
    "<img src=https://res.cloudinary.com/practicaldev/image/fetch/s--iCkOfD0L--/c_limit%2Cf_auto%2Cfl_progressive%2Cq_auto%2Cw_880/https://cdn-images-1.medium.com/max/1024/1%2A709ugF12LLkYxvb839YNlg.png width=\"500\">\n",
    "</center>\n",
    "\n",
    "Features of a function:\n",
    "- function_name\n",
    "- list of input arguments\n",
    "- computation steps\n",
    "- return statement__|\n",
    "\n",
    "\n",
    "\n"
   ],
   "cell_type": "markdown",
   "metadata": {}
  },
  {
   "source": [
    "# Concept templates POC\n",
    "\n",
    "Point of this is to demonstrate how we can prepare notes for key concepts that we teach. \n",
    "\n",
    "The benefits of such is:\n",
    "- Ease of replication for students - they just need to follow this template to reproduce programming features\n",
    "- Organized notes to from course - Tangible takeaway after learning with us"
   ],
   "cell_type": "markdown",
   "metadata": {}
  },
  {
   "cell_type": "code",
   "execution_count": 1,
   "metadata": {},
   "outputs": [
    {
     "output_type": "error",
     "ename": "NameError",
     "evalue": "name 'i0' is not defined",
     "traceback": [
      "\u001b[1;31m---------------------------------------------------------------------------\u001b[0m",
      "\u001b[1;31mNameError\u001b[0m                                 Traceback (most recent call last)",
      "\u001b[1;32m<ipython-input-1-46c67dd1fd20>\u001b[0m in \u001b[0;36m<module>\u001b[1;34m\u001b[0m\n\u001b[0;32m     11\u001b[0m \u001b[1;33m\u001b[0m\u001b[0m\n\u001b[0;32m     12\u001b[0m \u001b[1;31m# FUNCTION CALLING\u001b[0m\u001b[1;33m\u001b[0m\u001b[1;33m\u001b[0m\u001b[1;33m\u001b[0m\u001b[0m\n\u001b[1;32m---> 13\u001b[1;33m \u001b[0mfunction_name\u001b[0m\u001b[1;33m(\u001b[0m\u001b[0mi0\u001b[0m\u001b[1;33m,\u001b[0m \u001b[0mi1\u001b[0m\u001b[1;33m,\u001b[0m \u001b[0mi2\u001b[0m\u001b[1;33m,\u001b[0m \u001b[0mi3\u001b[0m\u001b[1;33m)\u001b[0m\u001b[1;33m\u001b[0m\u001b[1;33m\u001b[0m\u001b[0m\n\u001b[0m",
      "\u001b[1;31mNameError\u001b[0m: name 'i0' is not defined"
     ]
    }
   ],
   "source": [
    "# TEMPLATE FOR FUNCTIONS\n",
    "\n",
    "# This is the definition.\n",
    "def function_name(input_0, input_1, so_on, so_forth):\n",
    "    #####################################################\n",
    "    # Erase box and write your computation steps here ! #\n",
    "    # If you need to return a value,                    #\n",
    "    # you will need to create the output_variable here. #\n",
    "    #####################################################\n",
    "    return output_value\n",
    "\n",
    "# FUNCTION CALLING\n",
    "function_name(i0, i1, i2, i3)"
   ]
  },
  {
   "source": [
    "The above cell shows the basic template of how to define a function. \n",
    "- Everything in the green box are comments - just delete the whole green box and write your computation steps.\n",
    "- Notice everything in the function definition is _indented_ by 1 tab spacing - this means everything defined in the function (all the steps) **only exists in the function**. If we create a a variable in this function, it only exists in the _local scope of this function_ and can't be used outside the indented block. \n",
    "- if we want to return a variable called \"output_value\", we need to create \"output_value\" somewhere in our computation. Of course we can name it any other name, like \"output\", \"result\", etc. After which, we write a return statement, as shown on the last line above. \n",
    "- Function will not compute any more steps if return statement is encountered. If the function has no return statement, the function will return a \"None\" value. This None value is a special object in Python, which is null/empty/doesn't contain anything. \n",
    "- To actually use the function, we need to call its name, and provide the required number of input arguments. In our definition, we designed it to accept 4 arguments. So we need to provide 4 arguments when we call this function. \n",
    "- Remember, we can design functions to accept any number of input arguments. \n",
    "- Input arguments do not need to be the same names as the arguments in the definition."
   ],
   "cell_type": "markdown",
   "metadata": {}
  },
  {
   "cell_type": "code",
   "execution_count": 2,
   "metadata": {},
   "outputs": [
    {
     "output_type": "stream",
     "name": "stdout",
     "text": [
      "7.0\n4.714285714285714\n"
     ]
    }
   ],
   "source": [
    "# Example use case:\n",
    "\n",
    "# This example shows how a function accepts a list of numbers\n",
    "# and calculates the average by taking the sum total divided by number of items in the list. \n",
    "# This is the function definition. (Nothing is computed yet, only defined.)\n",
    "def average_function(list_of_values):\n",
    "    number_of_entries = len(list_of_values)\n",
    "    total = 0\n",
    "    for value in list_of_values:\n",
    "        total = total + value\n",
    "    mean = total / number_of_entries\n",
    "\n",
    "    return mean\n",
    "\n",
    "# This is calling the function to actually compute an average, and assigns this to the variable \"average_value\".\n",
    "average_value = average_function([3,5,7,9,11])\n",
    "print(average_value)\n",
    "\n",
    "# For convenience, you can actually use some in-built functions in Python that are already defined,\n",
    "# such as sum():\n",
    "def average_function_2(list_of_values):\n",
    "    number_of_entries = len(list_of_values)\n",
    "    # Notice that the sum() function below makes our lives easier.\n",
    "    total = sum(list_of_values)\n",
    "    mean = total / number_of_entries\n",
    "\n",
    "    return mean\n",
    "\n",
    "print(average_function_2([1,1,2,3,5,8,13]))"
   ]
  },
  {
   "source": [
    "# STORY TIME"
   ],
   "cell_type": "markdown",
   "metadata": {}
  },
  {
   "cell_type": "code",
   "execution_count": 3,
   "metadata": {},
   "outputs": [
    {
     "output_type": "stream",
     "name": "stdout",
     "text": [
      "~~~~~~~~~~~~~~~~~~~~~~~~~~~~~~~~~~~~~~~~~~~~~~~~~~\nVolume of bubble tea cup:  938.3871806157553 cm^3\n~~~~~~~~~~~~~~~~~~~~~~~~~~~~~~~~~~~~~~~~~~~~~~~~~~\n"
     ]
    }
   ],
   "source": [
    "# Ah Lian is a bubble tea connoisseur that frequents different bubble tea shops.\n",
    "# She wants to calculate the volume of cups from different shops, because she is an academic. \n",
    "# Ah Lian decides to use Python to make her life easier.\n",
    "\n",
    "# Ah Lian goes to her favourite shop one day, buys a large sized cup and measures the dimensions.\n",
    "# She measures the following:\n",
    "# Top diameter = 10 cm\n",
    "# Bottom diameter = 7.5 cm\n",
    "# Depth = 15.5 cm\n",
    "# She deduces the following:\n",
    "'''\n",
    "                 |<-------R------>|\n",
    " _________________________________ ____________\n",
    " \\               |               /  ^         ^\n",
    "  \\              |              /   |         |\n",
    "   \\             |             /    |         |\n",
    "    \\            |            /     |         |\n",
    "     \\           |           /      |   d     |\n",
    "      \\          |          /       |         |\n",
    "       \\         |         /        |         |\n",
    "        \\        |   r    /         |         |\n",
    "         \\       |<---->|/          |         | H\n",
    "          \\ _____|______/         __v__       |\n",
    "           \\     |     /            ^         |\n",
    "            \\    |    /             |         |\n",
    "             \\   |   /              |   h     |\n",
    "              \\  |  /               |         |\n",
    "               \\ | /                |         |\n",
    "                \\|/  _______________v_________v_\n",
    "\n",
    "- Formula for volume of cone = 1/3 * π * radius^2 * height      (she remembers this from secondary school, because, academic.)\n",
    "- Volume of cup is the top truncated portion of the cone, spanned by d. \n",
    "- R, r, and d are easy to acquire (measurements).\n",
    "- She needs to find H. By similar triangles:\n",
    "       r/R = h/H\n",
    "    => d/H = 1 - h/H = 1 - r/R\n",
    "    => H = d / (1 - r/R)\n",
    "- Volume of big cone can be calculated with height = H:\n",
    "    big_cone_vol = 1/3 * π * (top_diameter / 2) ^2 * H\n",
    "- Volume of small cone can be calculated with height = H - d:\n",
    "    small_cone_vol = 1/3 * π * (bottom_diameter / 2) * (H - d)\n",
    "- Cup volume is volume of big cone - volume of small cone:\n",
    "    cup_volume = big_cone_vol - small_cone_vol\n",
    "'''\n",
    "# Ah Lian got to work by assigning her variables:\n",
    "top_diameter = 10\n",
    "bottom_diameter = 7.5\n",
    "depth = 15.5\n",
    "\n",
    "R = top_diameter / 2\n",
    "r = bottom_diameter / 2\n",
    "H = depth / (1 - r / R)\n",
    "big_cone_vol = 1/3 * 3.1415926535 * R**2 * H\n",
    "small_cone_vol = 1/3 * 3.1415926535 * r**2 * (H - depth)\n",
    "\n",
    "cup_volume = big_cone_vol - small_cone_vol\n",
    "\n",
    "print('~' * 50)\n",
    "print('Volume of bubble tea cup: ', cup_volume, 'cm^3')\n",
    "print('~' * 50)"
   ]
  },
  {
   "cell_type": "code",
   "execution_count": 4,
   "metadata": {},
   "outputs": [
    {
     "output_type": "stream",
     "name": "stdout",
     "text": [
      "~~~~~~~~~~~~~~~~~~~~~~~~~~~~~~~~~~~~~~~~~~~~~~~~~~\nVolume of new bubble tea cup:  964.4689446245 cm^3\n~~~~~~~~~~~~~~~~~~~~~~~~~~~~~~~~~~~~~~~~~~~~~~~~~~\n"
     ]
    }
   ],
   "source": [
    "# Feeling proud of herself, she finished her bbt. \n",
    "\n",
    "# The next day, she visited another shop. This time, she realizes the cup has different dimensions than the one she bought yesterday.\n",
    "# She decides to use what she has written since she has already done similar calculations.\n",
    "# She realizes she needs to change her first three variables:\n",
    "#   Top diameter = 9.5 cm\n",
    "#   Bottom diameter = 8 cm\n",
    "#   Depth = 16 cm\n",
    "# However, all other steps that follow are the same.\n",
    "\n",
    "# This is when she decided, she can actually pack her calculations in a FUNCTION!\n",
    "# This would be more convenient, allowing herself and others to reuse her useful bbt cup calculator code!\n",
    "\n",
    "# Let's use our template:\n",
    "'''\n",
    "def function_name(input_0, input_1, so_on, so_forth):\n",
    "    #####################################################\n",
    "    # Erase box and write your computation steps here ! #\n",
    "    # If you need to return a value,                    #\n",
    "    # you will need to create the output_variable here. #\n",
    "    #####################################################\n",
    "    return output_variable\n",
    "'''\n",
    "# She does the following:\n",
    "# - Renames function name to something relevant, like \"bbt_vol\".\n",
    "# - Changes the input arguments.\n",
    "# - Deletes the comment box from the template, and adds her own computation.\n",
    "# - computes a variable that she calls \"cup_volume\", and returns it at the last line.\n",
    "\n",
    "def bbt_vol(top_diameter, bottom_diameter, depth):\n",
    "    R = top_diameter / 2\n",
    "    r = bottom_diameter / 2\n",
    "    H = depth / (1 - r / R)\n",
    "    big_cone_vol = 1/3 * 3.1415926535 * R**2 * H\n",
    "    small_cone_vol = 1/3 * 3.1415926535 * r**2 * (H - depth)\n",
    "\n",
    "    cup_volume = big_cone_vol - small_cone_vol\n",
    "\n",
    "    return cup_volume\n",
    "\n",
    "# She now can calculate the volume of the different cup she bought today:\n",
    "new_cup_volume = bbt_vol(9.5,8,16)\n",
    "\n",
    "print('~' * 50)\n",
    "print('Volume of new bubble tea cup: ', new_cup_volume, 'cm^3')\n",
    "print('~' * 50)"
   ]
  },
  {
   "cell_type": "code",
   "execution_count": 5,
   "metadata": {},
   "outputs": [
    {
     "output_type": "stream",
     "name": "stdout",
     "text": [
      "938.3871806157553\n964.4689446245\n990.0360110368465\n958.1857593175004\n944.4740163819114\n967.5634133881974\n987.2559633378867\n968.6577348291668\n"
     ]
    }
   ],
   "source": [
    "# Some time in the future, Ah Lian decides to conduct a study on the different volumes of bubble tea sold.\n",
    "# She went out and did her research, by measuring the largest bubble tea cups in several stores.\n",
    "# She recorded her findings:\n",
    "\n",
    "cup_dimensions = [\n",
    "    [10,7.5,15.5],\n",
    "    [9.5,8,16],\n",
    "    [9.7,8.2,15.7],\n",
    "    [10,8,15],\n",
    "    [10.5,7,15.5],\n",
    "    [9.8,8,15.5],\n",
    "    [9.7,8,16],\n",
    "    [10,7.5,16],\n",
    "]\n",
    "\n",
    "for set_of_measurement in cup_dimensions:\n",
    "    top, bottom, depth = set_of_measurement\n",
    "    vol = bbt_vol(top, bottom, depth)\n",
    "    print(vol)"
   ]
  },
  {
   "cell_type": "code",
   "execution_count": 11,
   "metadata": {},
   "outputs": [
    {
     "output_type": "stream",
     "name": "stdout",
     "text": [
      "Volumes measured:  [938.3871806425761, 960.28015444728, 971.3754743015957, 938.5508052599506, 950.5608521752366, 953.7665856788373, 976.3651088336596, 968.6577348568528] \n\nAverage volume of BBT:  957.2429870244986 cm^3\nStandard Deviation:  13.539659241664964\n"
     ]
    }
   ],
   "source": [
    "# Because her function actually returns a value, she can choose to save these values and do further calculations,\n",
    "# rather than just printing them out on the screen. \n",
    "\n",
    "# Makes a list to save the values instead of printing.\n",
    "volumes = []\n",
    "\n",
    "for set_of_measurement in cup_dimensions:\n",
    "    top, bottom, depth = set_of_measurement\n",
    "    vol = bbt_vol(top, bottom, depth)\n",
    "    # saves value into the list\n",
    "    volumes.append(vol)\n",
    "\n",
    "print('Volumes measured: ', volumes, '\\n')\n",
    "\n",
    "# Here she imports a \"mean\" and \"std\" function, to find the mean and standard deviation of volumes of bbt cups.\n",
    "from numpy import mean, std\n",
    "\n",
    "average_volume = mean(volumes)\n",
    "std_of_volumes = std(volumes)\n",
    "\n",
    "print(\"Average volume of BBT: \", average_volume, \"cm^3\")\n",
    "print(\"Standard Deviation: \", std_of_volumes)"
   ]
  },
  {
   "source": [
    "## Appendix"
   ],
   "cell_type": "markdown",
   "metadata": {}
  },
  {
   "cell_type": "code",
   "execution_count": 7,
   "metadata": {},
   "outputs": [],
   "source": [
    "# The volume of a \"bbt cup\" is actually a conic frustum, and the easiest way to find that is given below:\n",
    "\n",
    "import numpy as np\n",
    "\n",
    "def bbt_vol(top_d, bottom_d, depth):\n",
    "    volume = 1 / 3 * np.pi * depth * ((top_d/2)**2 + (bottom_d/2)**2 + (top_d/2)*(bottom_d/2))\n",
    "    return volume\n",
    "\n",
    "# The example before this is educational, and intends to show how functions allow us to reuse complicated code."
   ]
  },
  {
   "source": [
    "## Citations\n",
    "- Bubble tea cup size estimates: https://www.bubbleteaology.com/wp-content/uploads/2015/12/95mm-PP-Cups-450x253.jpg\n",
    "- Volume of truncated cone: https://www.omnicalculator.com/math/cone-volume#:~:text=Truncated%20cone%20volume%20(volume%20of%20frustum),-A%20truncated%20cone&text=You%20can%20calculate%20frustum%20volume,r%20of%20top%20surface%20radius"
   ],
   "cell_type": "markdown",
   "metadata": {}
  },
  {
   "cell_type": "code",
   "execution_count": null,
   "metadata": {},
   "outputs": [],
   "source": []
  }
 ]
}